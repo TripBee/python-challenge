{
 "cells": [
  {
   "cell_type": "code",
   "execution_count": null,
   "metadata": {},
   "outputs": [],
   "source": [
    "import csv\n",
    "import pandas as pd\n",
    "import os "
   ]
  },
  {
   "cell_type": "code",
   "execution_count": null,
   "metadata": {},
   "outputs": [],
   "source": [
    "csv_path = \"election_data.csv\"\n",
    "file = pd.read_csv(csv_path)\n",
    "\n",
    "# print(type(file))\n",
    "# print(file.columns)\n",
    "# print(file.head())"
   ]
  },
  {
   "cell_type": "code",
   "execution_count": null,
   "metadata": {},
   "outputs": [],
   "source": [
    "NumberOfVoters = file[\"Voter ID\"].count()\n",
    "\n",
    "# print(NumberOfVoters) # (int) The number of votes cast"
   ]
  },
  {
   "cell_type": "code",
   "execution_count": null,
   "metadata": {},
   "outputs": [],
   "source": [
    "Candidates = file.Candidate.unique()\n",
    "\n",
    "# print(Candidates) # (array) the candidates who received votes"
   ]
  },
  {
   "cell_type": "code",
   "execution_count": null,
   "metadata": {
    "scrolled": true
   },
   "outputs": [],
   "source": [
    "VoteCounts = file['Candidate'].value_counts()\n",
    "Names = VoteCounts.keys().tolist()\n",
    "Votes = VoteCounts.tolist()\n",
    "NumberOfNames = len(Names)\n",
    "\n",
    "# print(VoteCounts) # (Series) the candidates and the votes they recieved\n",
    "# print(Names) # (array) the candidates sorted by popularity\n",
    "# print(Votes) # (array) their votes recieved sorted by popularity\n",
    "# print(NumberOfNames) # (int) number of candidates\n"
   ]
  },
  {
   "cell_type": "code",
   "execution_count": null,
   "metadata": {},
   "outputs": [],
   "source": [
    "Percents =[]\n",
    "for x in range(0, NumberOfNames):\n",
    "    Percents.append(round(Votes[x] / NumberOfVoters * 100, 3))\n",
    "\n",
    "# print(Percents) # (array) the percent of votes recieved sorted by popularity"
   ]
  },
  {
   "cell_type": "code",
   "execution_count": null,
   "metadata": {},
   "outputs": [],
   "source": [
    "# print the results\n",
    "print('Election Results')\n",
    "print('-------------------------')\n",
    "print('Total Votes: ' + str(NumberOfVoters))\n",
    "print('-------------------------')\n",
    "for x in range(0, NumberOfNames):\n",
    "    print(str(Names[x]) + ': ' + str(Percents[x]) + '% (' + str(Votes[x]) + ')')\n",
    "print('-------------------------')\n",
    "print('Winner: ' + Names[0])\n",
    "print('-------------------------')"
   ]
  },
  {
   "cell_type": "code",
   "execution_count": null,
   "metadata": {},
   "outputs": [],
   "source": [
    "# Create a .txt file with the results\n",
    "with open('Election_Resuts.txt', 'w+', newline = \"\\n\") as ER:\n",
    "    ER.write('Election Results\\n')\n",
    "    ER.write('-------------------------\\n')\n",
    "    ER.write('Total Votes: ' + str(NumberOfVoters)+ \"\\n\")\n",
    "    ER.write('-------------------------\\n')\n",
    "    for x in range(0, NumberOfNames):\n",
    "        ER.write(str(Names[x]) + ': ' + str(Percents[x]) + '% (' + str(Votes[x]) + ')\\n')\n",
    "    ER.write('-------------------------\\n')\n",
    "    ER.write('Winner: ' + Names[0] + '\\n')\n",
    "    ER.write('-------------------------\\n')\n",
    "    \n",
    "# Enjoy!"
   ]
  }
 ],
 "metadata": {
  "kernelspec": {
   "display_name": "Python 3",
   "language": "python",
   "name": "python3"
  },
  "language_info": {
   "codemirror_mode": {
    "name": "ipython",
    "version": 3
   },
   "file_extension": ".py",
   "mimetype": "text/x-python",
   "name": "python",
   "nbconvert_exporter": "python",
   "pygments_lexer": "ipython3",
   "version": "3.6.5"
  }
 },
 "nbformat": 4,
 "nbformat_minor": 2
}
