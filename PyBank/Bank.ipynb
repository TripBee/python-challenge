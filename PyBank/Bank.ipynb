{
 "cells": [
  {
   "cell_type": "code",
   "execution_count": 2,
   "metadata": {},
   "outputs": [],
   "source": [
    "# import your libraries\n",
    "import csv\n",
    "import pandas as pd\n",
    "import os "
   ]
  },
  {
   "cell_type": "code",
   "execution_count": 3,
   "metadata": {},
   "outputs": [],
   "source": [
    "# find the file and call it 'file'\n",
    "csv_path = \"budget_data.csv\"\n",
    "file = pd.read_csv(csv_path)\n",
    "\n",
    "\n",
    "# An alternate method:\n",
    "# csvpath = os.path.join('budget_data.csv')\n",
    "# with open(csvpath, 'r', newline='') as csvfile:\n",
    "#     file = csv.reader(csvfile, delimiter=',')"
   ]
  },
  {
   "cell_type": "code",
   "execution_count": 6,
   "metadata": {},
   "outputs": [
    {
     "data": {
      "text/plain": [
       "Index(['Date', 'Profit/Loss'], dtype='object')"
      ]
     },
     "execution_count": 6,
     "metadata": {},
     "output_type": "execute_result"
    }
   ],
   "source": [
    "# fix the mislabled column \n",
    "file = file.rename(columns={\"Revenue\":\"Profit/Loss\"})"
   ]
  },
  {
   "cell_type": "code",
   "execution_count": null,
   "metadata": {},
   "outputs": [],
   "source": [
    "# Create a variable equal to the number of months in the file\n",
    "Months = file['Date'].count()"
   ]
  },
  {
   "cell_type": "code",
   "execution_count": null,
   "metadata": {},
   "outputs": [],
   "source": [
    "# The total net amount of \"Profit/Losses\" over the entire period\n",
    "Sum = file['Profit/Loss'].sum()"
   ]
  },
  {
   "cell_type": "code",
   "execution_count": null,
   "metadata": {},
   "outputs": [],
   "source": [
    "Profits = file['Profit/Loss'] # create a column/array to hold the new 'change in profits' data \n",
    "PrevProf = Profits[0] # the profits of the previous month \n",
    "ChangesInProfits = [] # the new Array \n",
    "\n",
    "# add the change to the new array\n",
    "# and update the previous month's profit \n",
    "for row in Profits: \n",
    "    ChangesInProfits.append(row - PrevProf) \n",
    "    PrevProf = row "
   ]
  },
  {
   "cell_type": "code",
   "execution_count": null,
   "metadata": {},
   "outputs": [],
   "source": [
    "# add this new \"Change in Profit/Loss\" column to the file\n",
    "file[\"Change in Profit/Loss\"] = ChangesInProfits"
   ]
  },
  {
   "cell_type": "code",
   "execution_count": null,
   "metadata": {},
   "outputs": [],
   "source": [
    "# The average change in \"Profit/Losses\" between months over the entire period\n",
    "\n",
    "# this one finds it using the array\n",
    "AverageChange = sum(ChangesInProfits) / len(ChangesInProfits)\n",
    "\n",
    "# This one finds it using the dataframe\n",
    "AverageChange2 = file['Change in Profit/Loss'].mean()"
   ]
  },
  {
   "cell_type": "code",
   "execution_count": null,
   "metadata": {},
   "outputs": [],
   "source": [
    "\n",
    "\n",
    "# The greatest increase and decrease in profits over the entire period\n",
    "MaxIncrease = file['Change in Profit/Loss'].max()\n",
    "MinIncrease = file['Change in Profit/Loss'].min()\n",
    "\n",
    "\n",
    "# index the dataframe by the change to loc(ate) the date \n",
    "IndexedFile = file.set_index('Change in Profit/Loss')\n",
    "MaxDate = IndexedFile.loc[MaxIncrease, \"Date\"]\n",
    "MinDate = IndexedFile.loc[MinIncrease, \"Date\"]"
   ]
  },
  {
   "cell_type": "code",
   "execution_count": null,
   "metadata": {},
   "outputs": [],
   "source": [
    "# Return the results in the Terminal\n",
    "print('Financial Analysis')\n",
    "print('----------------------------')\n",
    "print('Total Months: ' + str(Months))\n",
    "print('Total: $' + str(round(Sum, 2)))\n",
    "print('Average Change: $' + str(round(AverageChange2, 2)))\n",
    "print('Greatest Increase in Profits: ' + str(MaxDate) + ' ($' + str(MaxIncrease) + ')')\n",
    "print('Greatest Decrease in Profits: ' + str(MinDate) + ' ($' + str(MinIncrease) + ')')"
   ]
  },
  {
   "cell_type": "code",
   "execution_count": null,
   "metadata": {},
   "outputs": [],
   "source": [
    "# Create a text file\n",
    "with open('Bank_Results.txt', 'w+', newline = \"\\n\") as w:\n",
    "    w.write(\"Financial Analysis\\n\")\n",
    "    w.write('----------------------------\\n')\n",
    "    w.write('Total Months: 41\\n')\n",
    "    w.write('Total: $18971412\\n')\n",
    "    w.write('Average Change: $-6594.12\\n')\n",
    "    w.write('Greatest Increase in Profits: Feb-16 ($1837235)\\n')\n",
    "    w.write('Greatest Decrease in Profits: Aug-14 ($-1779747)\\n')"
   ]
  },
  {
   "cell_type": "code",
   "execution_count": null,
   "metadata": {},
   "outputs": [],
   "source": []
  }
 ],
 "metadata": {
  "kernelspec": {
   "display_name": "Python 3",
   "language": "python",
   "name": "python3"
  },
  "language_info": {
   "codemirror_mode": {
    "name": "ipython",
    "version": 3
   },
   "file_extension": ".py",
   "mimetype": "text/x-python",
   "name": "python",
   "nbconvert_exporter": "python",
   "pygments_lexer": "ipython3",
   "version": "3.6.5"
  }
 },
 "nbformat": 4,
 "nbformat_minor": 2
}
